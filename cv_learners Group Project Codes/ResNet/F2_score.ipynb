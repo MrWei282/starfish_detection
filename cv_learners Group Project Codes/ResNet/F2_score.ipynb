{
 "cells": [
  {
   "cell_type": "code",
   "execution_count": 9,
   "metadata": {
    "collapsed": true
   },
   "outputs": [],
   "source": [
    "import ast\n",
    "import pandas as pd\n",
    "import numpy as np"
   ]
  },
  {
   "cell_type": "code",
   "execution_count": 10,
   "outputs": [],
   "source": [
    "prediction_df = pd.read_csv('test_prediction003.csv')\n",
    "prediction_df['ground_truth'] = prediction_df.apply(lambda row: ast.literal_eval(row.ground_truth), axis=1)\n",
    "prediction_df['boxes'] = prediction_df.apply(lambda row: ast.literal_eval(row.boxes), axis=1)"
   ],
   "metadata": {
    "collapsed": false
   }
  },
  {
   "cell_type": "code",
   "execution_count": 11,
   "outputs": [
    {
     "data": {
      "text/plain": "      filename  width  height     class  xmin  ymin  xmax  ymax  image_id  \\\n0   2-5398.jpg   1280     720  starfish   179   156   228   203         0   \n1   1-9381.jpg   1280     720  starfish   438   681   521   720         1   \n2   2-5456.jpg   1280     720  starfish     4   643    63   698         2   \n3   2-5843.jpg   1280     720  starfish  1080   620  1164   678         3   \n4   2-6368.jpg   1280     720  starfish   169   145   202   173         4   \n5   1-9243.jpg   1280     720  starfish   105   654   150   699         5   \n6   2-7967.jpg   1280     720  starfish   514   299   549   319         6   \n7   2-5439.jpg   1280     720  starfish   186   352   235   399         7   \n8   2-8865.jpg   1280     720  starfish   448   597   508   636         8   \n9   2-5508.jpg   1280     720  starfish   246   607   287   646         9   \n10  1-9238.jpg   1280     720  starfish   273   689   321   719        10   \n11  2-8866.jpg   1280     720  starfish   444   618   506   657        11   \n12  2-6335.jpg   1280     720  starfish   334    67   361    94        12   \n13  1-9153.jpg   1280     720  starfish   461   116   499   157        13   \n14  2-5728.jpg   1280     720  starfish   765    88   809   118        14   \n15  1-9320.jpg   1280     720  starfish   623   507   664   553        15   \n16  2-6250.jpg   1280     720  starfish   515   152   551   189        16   \n17  2-6373.jpg   1280     720  starfish   150   201   183   229        17   \n18  2-6410.jpg   1280     720  starfish     2   472    47   512        18   \n19  1-9194.jpg   1280     720  starfish   437   482   490   534        19   \n\n                                               labels  \\\n0   ['starfish', 'starfish', 'starfish', 'starfish...   \n1   ['starfish', 'starfish', 'starfish', 'starfish...   \n2   ['starfish', 'starfish', 'starfish', 'starfish...   \n3   ['starfish', 'starfish', 'starfish', 'starfish...   \n4   ['starfish', 'starfish', 'starfish', 'starfish...   \n5   ['starfish', 'starfish', 'starfish', 'starfish...   \n6   ['starfish', 'starfish', 'starfish', 'starfish...   \n7   ['starfish', 'starfish', 'starfish', 'starfish...   \n8   ['starfish', 'starfish', 'starfish', 'starfish...   \n9                ['starfish', 'starfish', 'starfish']   \n10  ['starfish', 'starfish', 'starfish', 'starfish...   \n11                                       ['starfish']   \n12  ['starfish', 'starfish', 'starfish', 'starfish...   \n13  ['starfish', 'starfish', 'starfish', 'starfish...   \n14  ['starfish', 'starfish', 'starfish', 'starfish...   \n15  ['starfish', 'starfish', 'starfish', 'starfish...   \n16  ['starfish', 'starfish', 'starfish', 'starfish...   \n17   ['starfish', 'starfish', 'starfish', 'starfish']   \n18               ['starfish', 'starfish', 'starfish']   \n19   ['starfish', 'starfish', 'starfish', 'starfish']   \n\n                                                boxes  \\\n0   [[761, 59, 794, 96], [886, 136, 927, 172], [26...   \n1   [[1209, 213, 1270, 270], [526, 400, 560, 447],...   \n2   [[334, 214, 379, 246], [443, 196, 471, 228], [...   \n3   [[728, 319, 766, 357], [813, 635, 850, 664], [...   \n4   [[1177, 558, 1226, 628], [470, 345, 503, 384],...   \n5   [[454, 587, 491, 612], [434, 150, 470, 179], [...   \n6   [[1224, 1, 1259, 21], [995, 26, 1043, 55], [71...   \n7   [[974, 534, 1013, 565], [224, 147, 257, 182], ...   \n8   [[459, 594, 499, 629], [0, 0, 55, 36], [360, 0...   \n9   [[498, 554, 528, 585], [154, 124, 206, 175], [...   \n10  [[1145, 441, 1209, 501], [529, 634, 597, 702],...   \n11                                [[0, 271, 33, 310]]   \n12  [[613, 463, 649, 517], [1235, 376, 1276, 447],...   \n13  [[619, 364, 670, 413], [813, 560, 879, 627], [...   \n14  [[885, 100, 928, 146], [401, 591, 437, 624], [...   \n15  [[306, 558, 358, 597], [622, 413, 655, 443], [...   \n16  [[574, 4, 626, 41], [585, 1, 614, 37], [1220, ...   \n17  [[780, 511, 807, 550], [328, 252, 361, 280], [...   \n18  [[1180, 220, 1237, 275], [219, 565, 256, 597],...   \n19  [[371, 438, 418, 478], [441, 492, 484, 515], [...   \n\n                                               scores            ground_truth  \n0   [0.6104638, 0.60373336, 0.25634515, 0.13928367...    [179, 156, 228, 203]  \n1   [0.2355324, 0.23038493, 0.11747926, 0.1048326,...    [438, 681, 521, 720]  \n2   [0.29690042, 0.1926385, 0.07696684, 0.06669554...       [4, 643, 63, 698]  \n3   [0.87733483, 0.43130508, 0.40441397, 0.2223332...  [1080, 620, 1164, 678]  \n4   [0.1899294, 0.09701449, 0.080434814, 0.0619859...    [169, 145, 202, 173]  \n5   [0.22215822, 0.19168675, 0.14077759, 0.1266641...    [105, 654, 150, 699]  \n6   [0.38565028, 0.24674265, 0.19437331, 0.1698201...    [514, 299, 549, 319]  \n7   [0.4448414, 0.24991387, 0.19835176, 0.13883433...    [186, 352, 235, 399]  \n8   [0.15105337, 0.09009042, 0.07866978, 0.0663505...    [448, 597, 508, 636]  \n9               [0.115978815, 0.07435075, 0.07144379]    [246, 607, 287, 646]  \n10  [0.38096493, 0.2377246, 0.20743942, 0.16780016...    [273, 689, 321, 719]  \n11                                       [0.17952482]    [444, 618, 506, 657]  \n12  [0.6533638, 0.13274981, 0.08674431, 0.08154543...      [334, 67, 361, 94]  \n13  [0.9501743, 0.6109446, 0.5513564, 0.49546337, ...    [461, 116, 499, 157]  \n14  [0.5983898, 0.586415, 0.073202305, 0.072632015...     [765, 88, 809, 118]  \n15  [0.79425585, 0.4802552, 0.46328402, 0.43341812...    [623, 507, 664, 553]  \n16  [0.18694293, 0.12086396, 0.11100145, 0.1024422...    [515, 152, 551, 189]  \n17   [0.13763586, 0.13743754, 0.06753252, 0.06275684]    [150, 201, 183, 229]  \n18                 [0.7063262, 0.4204047, 0.19873628]       [2, 472, 47, 512]  \n19  [0.90883195, 0.09912047, 0.09321963, 0.071924806]    [437, 482, 490, 534]  ",
      "text/html": "<div>\n<style scoped>\n    .dataframe tbody tr th:only-of-type {\n        vertical-align: middle;\n    }\n\n    .dataframe tbody tr th {\n        vertical-align: top;\n    }\n\n    .dataframe thead th {\n        text-align: right;\n    }\n</style>\n<table border=\"1\" class=\"dataframe\">\n  <thead>\n    <tr style=\"text-align: right;\">\n      <th></th>\n      <th>filename</th>\n      <th>width</th>\n      <th>height</th>\n      <th>class</th>\n      <th>xmin</th>\n      <th>ymin</th>\n      <th>xmax</th>\n      <th>ymax</th>\n      <th>image_id</th>\n      <th>labels</th>\n      <th>boxes</th>\n      <th>scores</th>\n      <th>ground_truth</th>\n    </tr>\n  </thead>\n  <tbody>\n    <tr>\n      <th>0</th>\n      <td>2-5398.jpg</td>\n      <td>1280</td>\n      <td>720</td>\n      <td>starfish</td>\n      <td>179</td>\n      <td>156</td>\n      <td>228</td>\n      <td>203</td>\n      <td>0</td>\n      <td>['starfish', 'starfish', 'starfish', 'starfish...</td>\n      <td>[[761, 59, 794, 96], [886, 136, 927, 172], [26...</td>\n      <td>[0.6104638, 0.60373336, 0.25634515, 0.13928367...</td>\n      <td>[179, 156, 228, 203]</td>\n    </tr>\n    <tr>\n      <th>1</th>\n      <td>1-9381.jpg</td>\n      <td>1280</td>\n      <td>720</td>\n      <td>starfish</td>\n      <td>438</td>\n      <td>681</td>\n      <td>521</td>\n      <td>720</td>\n      <td>1</td>\n      <td>['starfish', 'starfish', 'starfish', 'starfish...</td>\n      <td>[[1209, 213, 1270, 270], [526, 400, 560, 447],...</td>\n      <td>[0.2355324, 0.23038493, 0.11747926, 0.1048326,...</td>\n      <td>[438, 681, 521, 720]</td>\n    </tr>\n    <tr>\n      <th>2</th>\n      <td>2-5456.jpg</td>\n      <td>1280</td>\n      <td>720</td>\n      <td>starfish</td>\n      <td>4</td>\n      <td>643</td>\n      <td>63</td>\n      <td>698</td>\n      <td>2</td>\n      <td>['starfish', 'starfish', 'starfish', 'starfish...</td>\n      <td>[[334, 214, 379, 246], [443, 196, 471, 228], [...</td>\n      <td>[0.29690042, 0.1926385, 0.07696684, 0.06669554...</td>\n      <td>[4, 643, 63, 698]</td>\n    </tr>\n    <tr>\n      <th>3</th>\n      <td>2-5843.jpg</td>\n      <td>1280</td>\n      <td>720</td>\n      <td>starfish</td>\n      <td>1080</td>\n      <td>620</td>\n      <td>1164</td>\n      <td>678</td>\n      <td>3</td>\n      <td>['starfish', 'starfish', 'starfish', 'starfish...</td>\n      <td>[[728, 319, 766, 357], [813, 635, 850, 664], [...</td>\n      <td>[0.87733483, 0.43130508, 0.40441397, 0.2223332...</td>\n      <td>[1080, 620, 1164, 678]</td>\n    </tr>\n    <tr>\n      <th>4</th>\n      <td>2-6368.jpg</td>\n      <td>1280</td>\n      <td>720</td>\n      <td>starfish</td>\n      <td>169</td>\n      <td>145</td>\n      <td>202</td>\n      <td>173</td>\n      <td>4</td>\n      <td>['starfish', 'starfish', 'starfish', 'starfish...</td>\n      <td>[[1177, 558, 1226, 628], [470, 345, 503, 384],...</td>\n      <td>[0.1899294, 0.09701449, 0.080434814, 0.0619859...</td>\n      <td>[169, 145, 202, 173]</td>\n    </tr>\n    <tr>\n      <th>5</th>\n      <td>1-9243.jpg</td>\n      <td>1280</td>\n      <td>720</td>\n      <td>starfish</td>\n      <td>105</td>\n      <td>654</td>\n      <td>150</td>\n      <td>699</td>\n      <td>5</td>\n      <td>['starfish', 'starfish', 'starfish', 'starfish...</td>\n      <td>[[454, 587, 491, 612], [434, 150, 470, 179], [...</td>\n      <td>[0.22215822, 0.19168675, 0.14077759, 0.1266641...</td>\n      <td>[105, 654, 150, 699]</td>\n    </tr>\n    <tr>\n      <th>6</th>\n      <td>2-7967.jpg</td>\n      <td>1280</td>\n      <td>720</td>\n      <td>starfish</td>\n      <td>514</td>\n      <td>299</td>\n      <td>549</td>\n      <td>319</td>\n      <td>6</td>\n      <td>['starfish', 'starfish', 'starfish', 'starfish...</td>\n      <td>[[1224, 1, 1259, 21], [995, 26, 1043, 55], [71...</td>\n      <td>[0.38565028, 0.24674265, 0.19437331, 0.1698201...</td>\n      <td>[514, 299, 549, 319]</td>\n    </tr>\n    <tr>\n      <th>7</th>\n      <td>2-5439.jpg</td>\n      <td>1280</td>\n      <td>720</td>\n      <td>starfish</td>\n      <td>186</td>\n      <td>352</td>\n      <td>235</td>\n      <td>399</td>\n      <td>7</td>\n      <td>['starfish', 'starfish', 'starfish', 'starfish...</td>\n      <td>[[974, 534, 1013, 565], [224, 147, 257, 182], ...</td>\n      <td>[0.4448414, 0.24991387, 0.19835176, 0.13883433...</td>\n      <td>[186, 352, 235, 399]</td>\n    </tr>\n    <tr>\n      <th>8</th>\n      <td>2-8865.jpg</td>\n      <td>1280</td>\n      <td>720</td>\n      <td>starfish</td>\n      <td>448</td>\n      <td>597</td>\n      <td>508</td>\n      <td>636</td>\n      <td>8</td>\n      <td>['starfish', 'starfish', 'starfish', 'starfish...</td>\n      <td>[[459, 594, 499, 629], [0, 0, 55, 36], [360, 0...</td>\n      <td>[0.15105337, 0.09009042, 0.07866978, 0.0663505...</td>\n      <td>[448, 597, 508, 636]</td>\n    </tr>\n    <tr>\n      <th>9</th>\n      <td>2-5508.jpg</td>\n      <td>1280</td>\n      <td>720</td>\n      <td>starfish</td>\n      <td>246</td>\n      <td>607</td>\n      <td>287</td>\n      <td>646</td>\n      <td>9</td>\n      <td>['starfish', 'starfish', 'starfish']</td>\n      <td>[[498, 554, 528, 585], [154, 124, 206, 175], [...</td>\n      <td>[0.115978815, 0.07435075, 0.07144379]</td>\n      <td>[246, 607, 287, 646]</td>\n    </tr>\n    <tr>\n      <th>10</th>\n      <td>1-9238.jpg</td>\n      <td>1280</td>\n      <td>720</td>\n      <td>starfish</td>\n      <td>273</td>\n      <td>689</td>\n      <td>321</td>\n      <td>719</td>\n      <td>10</td>\n      <td>['starfish', 'starfish', 'starfish', 'starfish...</td>\n      <td>[[1145, 441, 1209, 501], [529, 634, 597, 702],...</td>\n      <td>[0.38096493, 0.2377246, 0.20743942, 0.16780016...</td>\n      <td>[273, 689, 321, 719]</td>\n    </tr>\n    <tr>\n      <th>11</th>\n      <td>2-8866.jpg</td>\n      <td>1280</td>\n      <td>720</td>\n      <td>starfish</td>\n      <td>444</td>\n      <td>618</td>\n      <td>506</td>\n      <td>657</td>\n      <td>11</td>\n      <td>['starfish']</td>\n      <td>[[0, 271, 33, 310]]</td>\n      <td>[0.17952482]</td>\n      <td>[444, 618, 506, 657]</td>\n    </tr>\n    <tr>\n      <th>12</th>\n      <td>2-6335.jpg</td>\n      <td>1280</td>\n      <td>720</td>\n      <td>starfish</td>\n      <td>334</td>\n      <td>67</td>\n      <td>361</td>\n      <td>94</td>\n      <td>12</td>\n      <td>['starfish', 'starfish', 'starfish', 'starfish...</td>\n      <td>[[613, 463, 649, 517], [1235, 376, 1276, 447],...</td>\n      <td>[0.6533638, 0.13274981, 0.08674431, 0.08154543...</td>\n      <td>[334, 67, 361, 94]</td>\n    </tr>\n    <tr>\n      <th>13</th>\n      <td>1-9153.jpg</td>\n      <td>1280</td>\n      <td>720</td>\n      <td>starfish</td>\n      <td>461</td>\n      <td>116</td>\n      <td>499</td>\n      <td>157</td>\n      <td>13</td>\n      <td>['starfish', 'starfish', 'starfish', 'starfish...</td>\n      <td>[[619, 364, 670, 413], [813, 560, 879, 627], [...</td>\n      <td>[0.9501743, 0.6109446, 0.5513564, 0.49546337, ...</td>\n      <td>[461, 116, 499, 157]</td>\n    </tr>\n    <tr>\n      <th>14</th>\n      <td>2-5728.jpg</td>\n      <td>1280</td>\n      <td>720</td>\n      <td>starfish</td>\n      <td>765</td>\n      <td>88</td>\n      <td>809</td>\n      <td>118</td>\n      <td>14</td>\n      <td>['starfish', 'starfish', 'starfish', 'starfish...</td>\n      <td>[[885, 100, 928, 146], [401, 591, 437, 624], [...</td>\n      <td>[0.5983898, 0.586415, 0.073202305, 0.072632015...</td>\n      <td>[765, 88, 809, 118]</td>\n    </tr>\n    <tr>\n      <th>15</th>\n      <td>1-9320.jpg</td>\n      <td>1280</td>\n      <td>720</td>\n      <td>starfish</td>\n      <td>623</td>\n      <td>507</td>\n      <td>664</td>\n      <td>553</td>\n      <td>15</td>\n      <td>['starfish', 'starfish', 'starfish', 'starfish...</td>\n      <td>[[306, 558, 358, 597], [622, 413, 655, 443], [...</td>\n      <td>[0.79425585, 0.4802552, 0.46328402, 0.43341812...</td>\n      <td>[623, 507, 664, 553]</td>\n    </tr>\n    <tr>\n      <th>16</th>\n      <td>2-6250.jpg</td>\n      <td>1280</td>\n      <td>720</td>\n      <td>starfish</td>\n      <td>515</td>\n      <td>152</td>\n      <td>551</td>\n      <td>189</td>\n      <td>16</td>\n      <td>['starfish', 'starfish', 'starfish', 'starfish...</td>\n      <td>[[574, 4, 626, 41], [585, 1, 614, 37], [1220, ...</td>\n      <td>[0.18694293, 0.12086396, 0.11100145, 0.1024422...</td>\n      <td>[515, 152, 551, 189]</td>\n    </tr>\n    <tr>\n      <th>17</th>\n      <td>2-6373.jpg</td>\n      <td>1280</td>\n      <td>720</td>\n      <td>starfish</td>\n      <td>150</td>\n      <td>201</td>\n      <td>183</td>\n      <td>229</td>\n      <td>17</td>\n      <td>['starfish', 'starfish', 'starfish', 'starfish']</td>\n      <td>[[780, 511, 807, 550], [328, 252, 361, 280], [...</td>\n      <td>[0.13763586, 0.13743754, 0.06753252, 0.06275684]</td>\n      <td>[150, 201, 183, 229]</td>\n    </tr>\n    <tr>\n      <th>18</th>\n      <td>2-6410.jpg</td>\n      <td>1280</td>\n      <td>720</td>\n      <td>starfish</td>\n      <td>2</td>\n      <td>472</td>\n      <td>47</td>\n      <td>512</td>\n      <td>18</td>\n      <td>['starfish', 'starfish', 'starfish']</td>\n      <td>[[1180, 220, 1237, 275], [219, 565, 256, 597],...</td>\n      <td>[0.7063262, 0.4204047, 0.19873628]</td>\n      <td>[2, 472, 47, 512]</td>\n    </tr>\n    <tr>\n      <th>19</th>\n      <td>1-9194.jpg</td>\n      <td>1280</td>\n      <td>720</td>\n      <td>starfish</td>\n      <td>437</td>\n      <td>482</td>\n      <td>490</td>\n      <td>534</td>\n      <td>19</td>\n      <td>['starfish', 'starfish', 'starfish', 'starfish']</td>\n      <td>[[371, 438, 418, 478], [441, 492, 484, 515], [...</td>\n      <td>[0.90883195, 0.09912047, 0.09321963, 0.071924806]</td>\n      <td>[437, 482, 490, 534]</td>\n    </tr>\n  </tbody>\n</table>\n</div>"
     },
     "execution_count": 11,
     "metadata": {},
     "output_type": "execute_result"
    }
   ],
   "source": [
    "prediction_df"
   ],
   "metadata": {
    "collapsed": false
   }
  },
  {
   "cell_type": "code",
   "execution_count": 13,
   "outputs": [],
   "source": [
    "beta = 2\n",
    "fBeta_list = []\n",
    "for IoU_threshold in np.arange(0.3,0.85,0.05):\n",
    "  true_positive = 0\n",
    "  false_positive = 0\n",
    "  false_negative = 0\n",
    "  IoU = 0\n",
    "  for n in range(len(prediction_df)):\n",
    "    sample_GT = prediction_df.at[n,'ground_truth']\n",
    "    sample_img_GT = np.zeros((720,1280), dtype=float)\n",
    "    sample_img_GT[sample_GT[1]:sample_GT[3], sample_GT[0]:sample_GT[2]] = 1\n",
    "    if len(prediction_df.at[n,'boxes']) == 0:\n",
    "      false_negative += 1\n",
    "      continue\n",
    "    for m in range(len(prediction_df.at[n,'boxes'])):\n",
    "      sample_pred = prediction_df.at[n,'boxes'][m]\n",
    "      sample_img_pred = np.zeros((720,1280), dtype=float)\n",
    "      sample_img_pred[sample_pred[1]:sample_pred[3], sample_pred[0]:sample_pred[2]] = 1\n",
    "      intersection_img = np.multiply(sample_img_GT, sample_img_pred)\n",
    "      union_img = np.add(sample_img_GT, sample_img_pred)\n",
    "      IoU = np.count_nonzero(intersection_img > 0)/np.count_nonzero(union_img>0)\n",
    "      if IoU >= IoU_threshold:\n",
    "        true_positive += 1\n",
    "      else:\n",
    "        false_positive += 1\n",
    "  fBetaScore = ((1+beta**2)*true_positive)/((1+beta**2)*true_positive + false_negative * beta**2 + false_positive)\n",
    "  fBeta_list.append(fBetaScore)"
   ],
   "metadata": {
    "collapsed": false
   }
  },
  {
   "cell_type": "code",
   "execution_count": 14,
   "outputs": [
    {
     "data": {
      "text/plain": "0.09666208328145047"
     },
     "execution_count": 14,
     "metadata": {},
     "output_type": "execute_result"
    }
   ],
   "source": [
    "average_F2_score = sum(fBeta_list)/len(fBeta_list)\n",
    "average_F2_score"
   ],
   "metadata": {
    "collapsed": false
   }
  },
  {
   "cell_type": "code",
   "execution_count": 14,
   "outputs": [],
   "source": [],
   "metadata": {
    "collapsed": false
   }
  }
 ],
 "metadata": {
  "kernelspec": {
   "display_name": "Python 3",
   "language": "python",
   "name": "python3"
  },
  "language_info": {
   "codemirror_mode": {
    "name": "ipython",
    "version": 2
   },
   "file_extension": ".py",
   "mimetype": "text/x-python",
   "name": "python",
   "nbconvert_exporter": "python",
   "pygments_lexer": "ipython2",
   "version": "2.7.6"
  }
 },
 "nbformat": 4,
 "nbformat_minor": 0
}
